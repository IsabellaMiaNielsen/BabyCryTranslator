{
 "cells": [
  {
   "cell_type": "code",
   "execution_count": 8,
   "metadata": {},
   "outputs": [],
   "source": [
    "# Import libraries for sound and display\n",
    "import pandas as pd\n",
    "import numpy as np\n",
    "from os.path import join as pjoin\n",
    "import os\n",
    "import matplotlib.pyplot as plt\n",
    "import librosa\n",
    "import librosa.display\n",
    "import seaborn as sns\n",
    "\n",
    "# Import libraries for ML\n",
    "from sklearn.preprocessing import StandardScaler, OneHotEncoder\n",
    "from sklearn.metrics import confusion_matrix, classification_report\n",
    "from sklearn.model_selection import train_test_split\n",
    "import keras\n",
    "from keras.preprocessing import sequence\n",
    "from keras.models import Sequential\n",
    "from keras.layers import Dense, Embedding\n",
    "from keras.layers import LSTM,BatchNormalization , GRU\n",
    "from keras.preprocessing.text import Tokenizer\n",
    "from keras_preprocessing.sequence import pad_sequences\n",
    "import tensorflow as tf\n",
    "from tensorflow.keras.utils import to_categorical\n",
    "from keras.layers import Input, Flatten, Dropout, Activation\n",
    "from keras.layers import Conv1D, MaxPooling1D, AveragePooling1D\n",
    "from keras.models import Model\n",
    "from keras.callbacks import ModelCheckpoint, EarlyStopping, ReduceLROnPlateau\n",
    "from tensorflow.keras.optimizers import SGD\n",
    "import tensorflow.keras.layers as L"
   ]
  },
  {
   "cell_type": "markdown",
   "metadata": {},
   "source": [
    "Load the data"
   ]
  },
  {
   "cell_type": "code",
   "execution_count": 9,
   "metadata": {},
   "outputs": [
    {
     "name": "stdout",
     "output_type": "stream",
     "text": [
      "(1320, 80)\n"
     ]
    },
    {
     "data": {
      "text/html": [
       "<div>\n",
       "<style scoped>\n",
       "    .dataframe tbody tr th:only-of-type {\n",
       "        vertical-align: middle;\n",
       "    }\n",
       "\n",
       "    .dataframe tbody tr th {\n",
       "        vertical-align: top;\n",
       "    }\n",
       "\n",
       "    .dataframe thead th {\n",
       "        text-align: right;\n",
       "    }\n",
       "</style>\n",
       "<table border=\"1\" class=\"dataframe\">\n",
       "  <thead>\n",
       "    <tr style=\"text-align: right;\">\n",
       "      <th></th>\n",
       "      <th>tempo</th>\n",
       "      <th>beat_mean</th>\n",
       "      <th>beat_var</th>\n",
       "      <th>harm_mean</th>\n",
       "      <th>harm_var</th>\n",
       "      <th>perc_mean</th>\n",
       "      <th>perc_var</th>\n",
       "      <th>specen_mean_0</th>\n",
       "      <th>specen_var_0</th>\n",
       "      <th>mfcc_mean_0</th>\n",
       "      <th>...</th>\n",
       "      <th>chroma_var_9</th>\n",
       "      <th>chroma_mean_10</th>\n",
       "      <th>chroma_var_10</th>\n",
       "      <th>chroma_mean_11</th>\n",
       "      <th>chroma_var_11</th>\n",
       "      <th>rms_mean_0</th>\n",
       "      <th>rms_var_0</th>\n",
       "      <th>zcr_mean_0</th>\n",
       "      <th>zcr_var_0</th>\n",
       "      <th>Labels</th>\n",
       "    </tr>\n",
       "  </thead>\n",
       "  <tbody>\n",
       "    <tr>\n",
       "      <th>0</th>\n",
       "      <td>83.705357</td>\n",
       "      <td>27.500000</td>\n",
       "      <td>12.250000</td>\n",
       "      <td>-0.000002</td>\n",
       "      <td>0.000309</td>\n",
       "      <td>0.000002</td>\n",
       "      <td>0.068899</td>\n",
       "      <td>1064.999328</td>\n",
       "      <td>514939.655595</td>\n",
       "      <td>-241.350769</td>\n",
       "      <td>...</td>\n",
       "      <td>0.152273</td>\n",
       "      <td>0.253239</td>\n",
       "      <td>0.104412</td>\n",
       "      <td>0.130955</td>\n",
       "      <td>0.028916</td>\n",
       "      <td>0.199852</td>\n",
       "      <td>0.032550</td>\n",
       "      <td>0.409202</td>\n",
       "      <td>0.086321</td>\n",
       "      <td>hungry</td>\n",
       "    </tr>\n",
       "    <tr>\n",
       "      <th>1</th>\n",
       "      <td>83.705357</td>\n",
       "      <td>17.000000</td>\n",
       "      <td>98.000000</td>\n",
       "      <td>0.000082</td>\n",
       "      <td>0.000561</td>\n",
       "      <td>0.000151</td>\n",
       "      <td>0.068904</td>\n",
       "      <td>1406.915699</td>\n",
       "      <td>19750.350392</td>\n",
       "      <td>-37.452045</td>\n",
       "      <td>...</td>\n",
       "      <td>0.102001</td>\n",
       "      <td>0.487648</td>\n",
       "      <td>0.107184</td>\n",
       "      <td>0.424836</td>\n",
       "      <td>0.136082</td>\n",
       "      <td>0.210326</td>\n",
       "      <td>0.029129</td>\n",
       "      <td>0.566857</td>\n",
       "      <td>0.008820</td>\n",
       "      <td>hungry</td>\n",
       "    </tr>\n",
       "    <tr>\n",
       "      <th>2</th>\n",
       "      <td>117.187500</td>\n",
       "      <td>29.500000</td>\n",
       "      <td>6.250000</td>\n",
       "      <td>-0.000002</td>\n",
       "      <td>0.000629</td>\n",
       "      <td>0.000004</td>\n",
       "      <td>0.031519</td>\n",
       "      <td>1217.543918</td>\n",
       "      <td>456525.253056</td>\n",
       "      <td>-268.593353</td>\n",
       "      <td>...</td>\n",
       "      <td>0.143556</td>\n",
       "      <td>0.386409</td>\n",
       "      <td>0.131537</td>\n",
       "      <td>0.241106</td>\n",
       "      <td>0.062973</td>\n",
       "      <td>0.142998</td>\n",
       "      <td>0.015818</td>\n",
       "      <td>0.458368</td>\n",
       "      <td>0.082611</td>\n",
       "      <td>hungry</td>\n",
       "    </tr>\n",
       "    <tr>\n",
       "      <th>3</th>\n",
       "      <td>97.656250</td>\n",
       "      <td>17.333333</td>\n",
       "      <td>97.222222</td>\n",
       "      <td>0.000048</td>\n",
       "      <td>0.000882</td>\n",
       "      <td>0.000056</td>\n",
       "      <td>0.031565</td>\n",
       "      <td>1427.955094</td>\n",
       "      <td>22533.085803</td>\n",
       "      <td>-41.222751</td>\n",
       "      <td>...</td>\n",
       "      <td>0.072566</td>\n",
       "      <td>0.655430</td>\n",
       "      <td>0.080964</td>\n",
       "      <td>0.547177</td>\n",
       "      <td>0.097843</td>\n",
       "      <td>0.153713</td>\n",
       "      <td>0.013533</td>\n",
       "      <td>0.587290</td>\n",
       "      <td>0.009306</td>\n",
       "      <td>hungry</td>\n",
       "    </tr>\n",
       "    <tr>\n",
       "      <th>4</th>\n",
       "      <td>83.705357</td>\n",
       "      <td>27.500000</td>\n",
       "      <td>12.250000</td>\n",
       "      <td>-0.000002</td>\n",
       "      <td>0.000309</td>\n",
       "      <td>0.000002</td>\n",
       "      <td>0.068899</td>\n",
       "      <td>1064.999328</td>\n",
       "      <td>514939.655595</td>\n",
       "      <td>-241.350769</td>\n",
       "      <td>...</td>\n",
       "      <td>0.152273</td>\n",
       "      <td>0.253239</td>\n",
       "      <td>0.104412</td>\n",
       "      <td>0.130955</td>\n",
       "      <td>0.028916</td>\n",
       "      <td>0.199852</td>\n",
       "      <td>0.032550</td>\n",
       "      <td>0.409202</td>\n",
       "      <td>0.086321</td>\n",
       "      <td>hungry</td>\n",
       "    </tr>\n",
       "  </tbody>\n",
       "</table>\n",
       "<p>5 rows × 80 columns</p>\n",
       "</div>"
      ],
      "text/plain": [
       "        tempo  beat_mean   beat_var  harm_mean  harm_var  perc_mean  perc_var  \\\n",
       "0   83.705357  27.500000  12.250000  -0.000002  0.000309   0.000002  0.068899   \n",
       "1   83.705357  17.000000  98.000000   0.000082  0.000561   0.000151  0.068904   \n",
       "2  117.187500  29.500000   6.250000  -0.000002  0.000629   0.000004  0.031519   \n",
       "3   97.656250  17.333333  97.222222   0.000048  0.000882   0.000056  0.031565   \n",
       "4   83.705357  27.500000  12.250000  -0.000002  0.000309   0.000002  0.068899   \n",
       "\n",
       "   specen_mean_0   specen_var_0  mfcc_mean_0  ...  chroma_var_9  \\\n",
       "0    1064.999328  514939.655595  -241.350769  ...      0.152273   \n",
       "1    1406.915699   19750.350392   -37.452045  ...      0.102001   \n",
       "2    1217.543918  456525.253056  -268.593353  ...      0.143556   \n",
       "3    1427.955094   22533.085803   -41.222751  ...      0.072566   \n",
       "4    1064.999328  514939.655595  -241.350769  ...      0.152273   \n",
       "\n",
       "   chroma_mean_10  chroma_var_10  chroma_mean_11  chroma_var_11  rms_mean_0  \\\n",
       "0        0.253239       0.104412        0.130955       0.028916    0.199852   \n",
       "1        0.487648       0.107184        0.424836       0.136082    0.210326   \n",
       "2        0.386409       0.131537        0.241106       0.062973    0.142998   \n",
       "3        0.655430       0.080964        0.547177       0.097843    0.153713   \n",
       "4        0.253239       0.104412        0.130955       0.028916    0.199852   \n",
       "\n",
       "   rms_var_0  zcr_mean_0  zcr_var_0  Labels  \n",
       "0   0.032550    0.409202   0.086321  hungry  \n",
       "1   0.029129    0.566857   0.008820  hungry  \n",
       "2   0.015818    0.458368   0.082611  hungry  \n",
       "3   0.013533    0.587290   0.009306  hungry  \n",
       "4   0.032550    0.409202   0.086321  hungry  \n",
       "\n",
       "[5 rows x 80 columns]"
      ]
     },
     "execution_count": 9,
     "metadata": {},
     "output_type": "execute_result"
    }
   ],
   "source": [
    "Cries = pd.read_csv(\"cries_8.csv\")\n",
    "Cries_test = pd.read_csv(\"cries_8_test.csv\")\n",
    "print(Cries.shape)\n",
    "Cries.head()"
   ]
  },
  {
   "cell_type": "markdown",
   "metadata": {},
   "source": [
    "Data preparation"
   ]
  },
  {
   "cell_type": "code",
   "execution_count": 10,
   "metadata": {},
   "outputs": [
    {
     "name": "stdout",
     "output_type": "stream",
     "text": [
      "(1320, 79) (1320, 5) (468, 79) (468, 5)\n"
     ]
    }
   ],
   "source": [
    "# Take all rows and cols without last col for X which include features\n",
    "X = Cries.iloc[:, :-1].values\n",
    "X_test = Cries_test.iloc[:, :-1].values\n",
    "# Take last col for Y, which include the cry labels\n",
    "Y = Cries[\"Labels\"].values\n",
    "Y_test = Cries_test[\"Labels\"].values\n",
    "\n",
    "\n",
    "# As this is a multiclass classification problem onehotencoding our Y\n",
    "encoder = OneHotEncoder()\n",
    "Y = encoder.fit_transform(np.array(Y).reshape(-1, 1)).toarray()\n",
    "Y_test = encoder.fit_transform(np.array(Y_test).reshape(-1, 1)).toarray()\n",
    "\n",
    "x_train = X \n",
    "x_test = X_test \n",
    "y_train = Y\n",
    "y_test = Y_test\n",
    "#x_train, x_test, y_train, y_test = train_test_split(X, Y, random_state=42, test_size=0.2, shuffle=True)\n",
    "print(x_train.shape, y_train.shape, x_test.shape, y_test.shape)"
   ]
  },
  {
   "cell_type": "markdown",
   "metadata": {},
   "source": [
    "Reshape for lstm and scale for CNN model"
   ]
  },
  {
   "cell_type": "code",
   "execution_count": 11,
   "metadata": {},
   "outputs": [
    {
     "name": "stdout",
     "output_type": "stream",
     "text": [
      "(1320, 79, 1) (1320, 5) (468, 79, 1) (468, 5)\n"
     ]
    }
   ],
   "source": [
    "X_train = x_train.reshape(x_train.shape[0], x_train.shape[1], 1)\n",
    "X_test = x_test.reshape(x_test.shape[0], x_test.shape[1], 1)\n",
    "\n",
    "scaler = StandardScaler()\n",
    "x_train = np.expand_dims(scaler.fit_transform(x_train), axis=2)\n",
    "x_test = np.expand_dims(scaler.transform(x_test), axis=2)\n",
    "\n",
    "print(x_train.shape, y_train.shape, x_test.shape, y_test.shape)"
   ]
  },
  {
   "cell_type": "code",
   "execution_count": 12,
   "metadata": {},
   "outputs": [],
   "source": [
    "# Applying early stopping for all models\n",
    "model_checkpoint = ModelCheckpoint(\"best_model_cnn_weights_features.h5\", monitor=\"val_accuracy\", save_best_only=True)\n",
    "\n",
    "early_stop = EarlyStopping(monitor=\"val_accuracy\", mode=\"auto\", patience=8, restore_best_weights=False)\n",
    "lr_reduction = ReduceLROnPlateau(monitor=\"val_accuracy\", patience=8, verbose=1, factor=0.5, min_lr=0.0000001)\n"
   ]
  },
  {
   "cell_type": "markdown",
   "metadata": {},
   "source": [
    "CNN model"
   ]
  },
  {
   "cell_type": "code",
   "execution_count": 13,
   "metadata": {},
   "outputs": [
    {
     "name": "stdout",
     "output_type": "stream",
     "text": [
      "Model: \"sequential_1\"\n",
      "_________________________________________________________________\n",
      " Layer (type)                Output Shape              Param #   \n",
      "=================================================================\n",
      " conv1d_5 (Conv1D)           (None, 79, 512)           3072      \n",
      "                                                                 \n",
      " batch_normalization_6 (Bat  (None, 79, 512)           2048      \n",
      " chNormalization)                                                \n",
      "                                                                 \n",
      " max_pooling1d_5 (MaxPoolin  (None, 40, 512)           0         \n",
      " g1D)                                                            \n",
      "                                                                 \n",
      " conv1d_6 (Conv1D)           (None, 40, 512)           1311232   \n",
      "                                                                 \n",
      " batch_normalization_7 (Bat  (None, 40, 512)           2048      \n",
      " chNormalization)                                                \n",
      "                                                                 \n",
      " max_pooling1d_6 (MaxPoolin  (None, 40, 512)           0         \n",
      " g1D)                                                            \n",
      "                                                                 \n",
      " dropout_3 (Dropout)         (None, 40, 512)           0         \n",
      "                                                                 \n",
      " conv1d_7 (Conv1D)           (None, 40, 256)           655616    \n",
      "                                                                 \n",
      " batch_normalization_8 (Bat  (None, 40, 256)           1024      \n",
      " chNormalization)                                                \n",
      "                                                                 \n",
      " max_pooling1d_7 (MaxPoolin  (None, 40, 256)           0         \n",
      " g1D)                                                            \n",
      "                                                                 \n",
      " conv1d_8 (Conv1D)           (None, 40, 256)           196864    \n",
      "                                                                 \n",
      " batch_normalization_9 (Bat  (None, 40, 256)           1024      \n",
      " chNormalization)                                                \n",
      "                                                                 \n",
      " max_pooling1d_8 (MaxPoolin  (None, 20, 256)           0         \n",
      " g1D)                                                            \n",
      "                                                                 \n",
      " dropout_4 (Dropout)         (None, 20, 256)           0         \n",
      "                                                                 \n",
      " conv1d_9 (Conv1D)           (None, 20, 128)           98432     \n",
      "                                                                 \n",
      " batch_normalization_10 (Ba  (None, 20, 128)           512       \n",
      " tchNormalization)                                               \n",
      "                                                                 \n",
      " max_pooling1d_9 (MaxPoolin  (None, 10, 128)           0         \n",
      " g1D)                                                            \n",
      "                                                                 \n",
      " dropout_5 (Dropout)         (None, 10, 128)           0         \n",
      "                                                                 \n",
      " flatten_1 (Flatten)         (None, 1280)              0         \n",
      "                                                                 \n",
      " dense_2 (Dense)             (None, 512)               655872    \n",
      "                                                                 \n",
      " batch_normalization_11 (Ba  (None, 512)               2048      \n",
      " tchNormalization)                                               \n",
      "                                                                 \n",
      " dense_3 (Dense)             (None, 5)                 2565      \n",
      "                                                                 \n",
      "=================================================================\n",
      "Total params: 2932357 (11.19 MB)\n",
      "Trainable params: 2928005 (11.17 MB)\n",
      "Non-trainable params: 4352 (17.00 KB)\n",
      "_________________________________________________________________\n"
     ]
    }
   ],
   "source": [
    "model = tf.keras.Sequential([\n",
    "    L.Conv1D(512, kernel_size=5, strides=1, padding=\"same\", activation=\"relu\", input_shape=(X_train.shape[1], 1)),\n",
    "    L.BatchNormalization(),\n",
    "    L.MaxPool1D(pool_size=5, strides=2, padding=\"same\"),\n",
    "    L.Conv1D(512, kernel_size=5, strides=1, padding=\"same\", activation=\"relu\"),\n",
    "    L.BatchNormalization(),\n",
    "    L.MaxPool1D(pool_size=5, strides=1, padding=\"same\"),\n",
    "    Dropout(0.2), # Add dropout layer after the second pooling layer\n",
    "    L.Conv1D(256, kernel_size=5, strides=1, padding=\"same\", activation=\"relu\"),\n",
    "    L.BatchNormalization(),\n",
    "    L.MaxPool1D(pool_size=5, strides=1, padding=\"same\"),\n",
    "    L.Conv1D(256, kernel_size=3, strides=1, padding=\"same\", activation=\"relu\"),\n",
    "    L.BatchNormalization(),\n",
    "    L.MaxPool1D(pool_size=5, strides=2, padding=\"same\"),\n",
    "    Dropout(0.2), # Add dropout layer after the forth max pooling layer\n",
    "    L.Conv1D(128, kernel_size=3, strides=1, padding=\"same\", activation=\"relu\"),\n",
    "    L.BatchNormalization(),\n",
    "    L.MaxPool1D(pool_size=3, strides=2, padding=\"same\"),\n",
    "    Dropout(0.2), # Add dropout layer after the fifth max pooling layer\n",
    "    L.Flatten(),\n",
    "    L.Dense(512, activation=\"relu\"),\n",
    "    L.BatchNormalization(),\n",
    "    L.Dense(5, activation=\"softmax\")\n",
    "])\n",
    "\n",
    "model.compile(optimizer=\"adam\", loss=\"categorical_crossentropy\", metrics=\"accuracy\")\n",
    "model.summary()"
   ]
  },
  {
   "cell_type": "markdown",
   "metadata": {},
   "source": [
    "Train CNN model"
   ]
  },
  {
   "cell_type": "code",
   "execution_count": 14,
   "metadata": {},
   "outputs": [
    {
     "name": "stdout",
     "output_type": "stream",
     "text": [
      "Epoch 1/50\n",
      "66/66 [==============================] - 6s 19ms/step - loss: 0.9282 - accuracy: 0.6955 - val_loss: 1.9580 - val_accuracy: 0.1368 - lr: 0.0010\n",
      "Epoch 2/50\n",
      " 8/66 [==>...........................] - ETA: 0s - loss: 0.2764 - accuracy: 0.9125"
     ]
    },
    {
     "name": "stderr",
     "output_type": "stream",
     "text": [
      "/usr/lib/python3/dist-packages/keras/engine/training.py:3000: UserWarning: You are saving your model as an HDF5 file via `model.save()`. This file format is considered legacy. We recommend using instead the native Keras format, e.g. `model.save('my_model.keras')`.\n",
      "  saving_api.save_model(\n"
     ]
    },
    {
     "name": "stdout",
     "output_type": "stream",
     "text": [
      "66/66 [==============================] - 0s 7ms/step - loss: 0.2231 - accuracy: 0.9303 - val_loss: 3.2656 - val_accuracy: 0.1261 - lr: 0.0010\n",
      "Epoch 3/50\n",
      "66/66 [==============================] - 1s 10ms/step - loss: 0.0867 - accuracy: 0.9712 - val_loss: 3.5467 - val_accuracy: 0.2051 - lr: 0.0010\n",
      "Epoch 4/50\n",
      "66/66 [==============================] - 0s 7ms/step - loss: 0.0782 - accuracy: 0.9780 - val_loss: 3.5767 - val_accuracy: 0.1709 - lr: 0.0010\n",
      "Epoch 5/50\n",
      "66/66 [==============================] - 0s 7ms/step - loss: 0.0927 - accuracy: 0.9674 - val_loss: 5.5271 - val_accuracy: 0.1966 - lr: 0.0010\n",
      "Epoch 6/50\n",
      "66/66 [==============================] - 1s 9ms/step - loss: 0.0716 - accuracy: 0.9697 - val_loss: 4.5946 - val_accuracy: 0.2222 - lr: 0.0010\n",
      "Epoch 7/50\n",
      "66/66 [==============================] - 1s 9ms/step - loss: 0.0363 - accuracy: 0.9879 - val_loss: 5.6538 - val_accuracy: 0.2308 - lr: 0.0010\n",
      "Epoch 8/50\n",
      "66/66 [==============================] - 0s 7ms/step - loss: 0.0617 - accuracy: 0.9803 - val_loss: 6.6881 - val_accuracy: 0.2286 - lr: 0.0010\n",
      "Epoch 9/50\n",
      "66/66 [==============================] - 0s 7ms/step - loss: 0.0406 - accuracy: 0.9886 - val_loss: 6.6788 - val_accuracy: 0.0833 - lr: 0.0010\n",
      "Epoch 10/50\n",
      "66/66 [==============================] - 0s 7ms/step - loss: 0.0577 - accuracy: 0.9811 - val_loss: 4.9254 - val_accuracy: 0.1880 - lr: 0.0010\n",
      "Epoch 11/50\n",
      "66/66 [==============================] - 0s 7ms/step - loss: 0.0447 - accuracy: 0.9917 - val_loss: 6.7357 - val_accuracy: 0.1090 - lr: 0.0010\n",
      "Epoch 12/50\n",
      "66/66 [==============================] - 0s 7ms/step - loss: 0.0371 - accuracy: 0.9871 - val_loss: 5.9828 - val_accuracy: 0.1004 - lr: 0.0010\n",
      "Epoch 13/50\n",
      "66/66 [==============================] - 1s 8ms/step - loss: 0.0210 - accuracy: 0.9932 - val_loss: 6.6077 - val_accuracy: 0.0962 - lr: 0.0010\n",
      "Epoch 14/50\n",
      "66/66 [==============================] - 0s 7ms/step - loss: 0.0218 - accuracy: 0.9939 - val_loss: 5.8963 - val_accuracy: 0.1303 - lr: 0.0010\n",
      "Epoch 15/50\n",
      "63/66 [===========================>..] - ETA: 0s - loss: 0.0181 - accuracy: 0.9944\n",
      "Epoch 15: ReduceLROnPlateau reducing learning rate to 0.0005000000237487257.\n",
      "66/66 [==============================] - 0s 7ms/step - loss: 0.0185 - accuracy: 0.9947 - val_loss: 5.5455 - val_accuracy: 0.1282 - lr: 0.0010\n"
     ]
    }
   ],
   "source": [
    "history = model.fit(x_train, y_train, epochs=50, validation_data=(x_test, y_test), batch_size=20, callbacks=[early_stop, lr_reduction, model_checkpoint])"
   ]
  },
  {
   "cell_type": "markdown",
   "metadata": {},
   "source": [
    "Plot performance"
   ]
  },
  {
   "cell_type": "code",
   "execution_count": 15,
   "metadata": {},
   "outputs": [
    {
     "name": "stdout",
     "output_type": "stream",
     "text": [
      "15/15 [==============================] - 0s 3ms/step - loss: 5.5455 - accuracy: 0.1282\n",
      "Accuracy of our model on test data :  12.820513546466827 %\n"
     ]
    },
    {
     "data": {
      "image/png": "[encoded data removed]",
      "text/plain": [
       "<Figure size 1440x432 with 2 Axes>"
      ]
     },
     "metadata": {
      "needs_background": "light"
     },
     "output_type": "display_data"
    }
   ],
   "source": [
    "print(\"Accuracy of our model on test data : \", model.evaluate(x_test, y_test)[1]*100, \"%\")\n",
    "\n",
    "fig, ax = plt.subplots(1, 2)\n",
    "train_acc = history.history[\"accuracy\"]\n",
    "train_loss = history.history[\"loss\"]\n",
    "test_acc = history.history[\"val_accuracy\"]\n",
    "test_loss = history.history[\"val_loss\"]\n",
    "\n",
    "epochs = [i for i in range(len(train_loss))]\n",
    "\n",
    "fig.set_size_inches(20, 6)\n",
    "ax[0].plot(epochs , train_loss , label = 'Training Loss')\n",
    "ax[0].plot(epochs , test_loss , label = 'Testing Loss')\n",
    "ax[0].set_title('Training & Testing Loss')\n",
    "ax[0].legend()\n",
    "ax[0].set_xlabel(\"Epochs\")\n",
    "\n",
    "ax[1].plot(epochs , train_acc , label = 'Training Accuracy')\n",
    "ax[1].plot(epochs , test_acc , label = 'Testing Accuracy')\n",
    "ax[1].set_title('Training & Testing Accuracy')\n",
    "ax[1].legend()\n",
    "ax[1].set_xlabel(\"Epochs\")\n",
    "plt.show()\n",
    "\n"
   ]
  },
  {
   "cell_type": "markdown",
   "metadata": {},
   "source": [
    "Predicting on test data"
   ]
  },
  {
   "cell_type": "code",
   "execution_count": 16,
   "metadata": {},
   "outputs": [
    {
     "name": "stdout",
     "output_type": "stream",
     "text": [
      "15/15 [==============================] - 0s 2ms/step\n"
     ]
    },
    {
     "data": {
      "text/html": [
       "<div>\n",
       "<style scoped>\n",
       "    .dataframe tbody tr th:only-of-type {\n",
       "        vertical-align: middle;\n",
       "    }\n",
       "\n",
       "    .dataframe tbody tr th {\n",
       "        vertical-align: top;\n",
       "    }\n",
       "\n",
       "    .dataframe thead th {\n",
       "        text-align: right;\n",
       "    }\n",
       "</style>\n",
       "<table border=\"1\" class=\"dataframe\">\n",
       "  <thead>\n",
       "    <tr style=\"text-align: right;\">\n",
       "      <th></th>\n",
       "      <th>Predicted Labels</th>\n",
       "      <th>Actual Labels</th>\n",
       "    </tr>\n",
       "  </thead>\n",
       "  <tbody>\n",
       "    <tr>\n",
       "      <th>0</th>\n",
       "      <td>tired</td>\n",
       "      <td>hungry</td>\n",
       "    </tr>\n",
       "    <tr>\n",
       "      <th>1</th>\n",
       "      <td>tired</td>\n",
       "      <td>hungry</td>\n",
       "    </tr>\n",
       "    <tr>\n",
       "      <th>2</th>\n",
       "      <td>tired</td>\n",
       "      <td>hungry</td>\n",
       "    </tr>\n",
       "    <tr>\n",
       "      <th>3</th>\n",
       "      <td>burping</td>\n",
       "      <td>hungry</td>\n",
       "    </tr>\n",
       "    <tr>\n",
       "      <th>4</th>\n",
       "      <td>tired</td>\n",
       "      <td>hungry</td>\n",
       "    </tr>\n",
       "    <tr>\n",
       "      <th>5</th>\n",
       "      <td>tired</td>\n",
       "      <td>hungry</td>\n",
       "    </tr>\n",
       "    <tr>\n",
       "      <th>6</th>\n",
       "      <td>tired</td>\n",
       "      <td>hungry</td>\n",
       "    </tr>\n",
       "    <tr>\n",
       "      <th>7</th>\n",
       "      <td>burping</td>\n",
       "      <td>hungry</td>\n",
       "    </tr>\n",
       "    <tr>\n",
       "      <th>8</th>\n",
       "      <td>tired</td>\n",
       "      <td>hungry</td>\n",
       "    </tr>\n",
       "    <tr>\n",
       "      <th>9</th>\n",
       "      <td>tired</td>\n",
       "      <td>hungry</td>\n",
       "    </tr>\n",
       "  </tbody>\n",
       "</table>\n",
       "</div>"
      ],
      "text/plain": [
       "  Predicted Labels Actual Labels\n",
       "0            tired        hungry\n",
       "1            tired        hungry\n",
       "2            tired        hungry\n",
       "3          burping        hungry\n",
       "4            tired        hungry\n",
       "5            tired        hungry\n",
       "6            tired        hungry\n",
       "7          burping        hungry\n",
       "8            tired        hungry\n",
       "9            tired        hungry"
      ]
     },
     "execution_count": 16,
     "metadata": {},
     "output_type": "execute_result"
    }
   ],
   "source": [
    "pred_test = model.predict(x_test)\n",
    "y_pred = encoder.inverse_transform(pred_test)\n",
    "y_test0 = encoder.inverse_transform(y_test)\n",
    "\n",
    "df0 = pd.DataFrame(columns=[\"Predicted Labels\", \"Actual Labels\"])\n",
    "df0[\"Predicted Labels\"] = y_pred.flatten()\n",
    "df0[\"Actual Labels\"] = y_test0.flatten()\n",
    "\n",
    "df0.head(10)"
   ]
  },
  {
   "cell_type": "markdown",
   "metadata": {},
   "source": [
    "Evaluation"
   ]
  },
  {
   "cell_type": "code",
   "execution_count": 17,
   "metadata": {},
   "outputs": [
    {
     "data": {
      "image/png": "[encoded data removed]",
      "text/plain": [
       "<Figure size 864x720 with 2 Axes>"
      ]
     },
     "metadata": {
      "needs_background": "light"
     },
     "output_type": "display_data"
    },
    {
     "name": "stdout",
     "output_type": "stream",
     "text": [
      "              precision    recall  f1-score   support\n",
      "\n",
      "  belly_pain       0.19      0.15      0.16        96\n",
      "     burping       0.14      0.07      0.09        88\n",
      "  discomfort       0.30      0.26      0.28        92\n",
      "      hungry       0.00      0.00      0.00        96\n",
      "       tired       0.08      0.17      0.10        96\n",
      "\n",
      "    accuracy                           0.13       468\n",
      "   macro avg       0.14      0.13      0.13       468\n",
      "weighted avg       0.14      0.13      0.13       468\n",
      "\n"
     ]
    }
   ],
   "source": [
    "cm = confusion_matrix(y_test0, y_pred)\n",
    "plt.figure(figsize=(12, 10))\n",
    "cm = pd.DataFrame(cm, index=[i for i in encoder.categories_], columns=[i for i in encoder.categories_])\n",
    "\n",
    "sns.heatmap(cm, linecolor=\"white\", cmap=\"Blues\", linewidths=1, annot=True, fmt=\".2f\")\n",
    "\n",
    "plt.title(\"Confusion Matrix\", size=20)\n",
    "plt.xlabel(\"Predicted Labels\", size=14)\n",
    "plt.ylabel(\"Actual Labels\", size=14)\n",
    "plt.show()\n",
    "print(classification_report(y_test0, y_pred))"
   ]
  }
 ],
 "metadata": {
  "kernelspec": {
   "display_name": "Python 3",
   "language": "python",
   "name": "python3"
  },
  "language_info": {
   "codemirror_mode": {
    "name": "ipython",
    "version": 3
   },
   "file_extension": ".py",
   "mimetype": "text/x-python",
   "name": "python",
   "nbconvert_exporter": "python",
   "pygments_lexer": "ipython3",
   "version": "3.10.12"
  }
 },
 "nbformat": 4,
 "nbformat_minor": 2
}
