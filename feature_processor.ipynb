{
 "cells": [
  {
   "cell_type": "code",
   "execution_count": 1,
   "metadata": {},
   "outputs": [
    {
     "name": "stdout",
     "output_type": "stream",
     "text": [
      "number of procesors:  16\n"
     ]
    }
   ],
   "source": [
    "# Import libraries for sound and display\n",
    "import pandas as pd\n",
    "import numpy as np\n",
    "from os.path import join as pjoin\n",
    "import os\n",
    "import matplotlib.pyplot as plt\n",
    "import librosa\n",
    "import librosa.display\n",
    "import seaborn as sns\n",
    "from scipy.spatial import distance\n",
    "\n",
    "import multiprocessing as mp\n",
    "import timeit\n",
    "from tqdm import tqdm\n",
    "\n",
    "import sklearn.preprocessing as pr\n",
    "\n",
    "print(\"number of procesors: \", mp.cpu_count())\n"
   ]
  },
  {
   "cell_type": "markdown",
   "metadata": {},
   "source": [
    "We first begin with getting the data "
   ]
  },
  {
   "cell_type": "code",
   "execution_count": 2,
   "metadata": {},
   "outputs": [
    {
     "name": "stdout",
     "output_type": "stream",
     "text": [
      "['hungry', 'discomfort', 'burping', 'belly_pain', 'tired']\n"
     ]
    }
   ],
   "source": [
    "cleaned_corpus_path = \"donateacry-corpus-master/donateacry_corpus_cleaned_and_updated_data\"\n",
    "label_list = os.listdir(cleaned_corpus_path)[:-1]\n",
    "print(label_list)\n",
    "\n",
    "file_label = []\n",
    "file_path = []\n",
    "file_label_test = []\n",
    "file_path_test = []\n",
    "for l in label_list:\n",
    "    number_label = 0\n",
    "    data_dir = pjoin(cleaned_corpus_path, l)\n",
    "    for file in os.listdir(data_dir):\n",
    "        path = pjoin(data_dir, file)\n",
    "        if number_label < 5:\n",
    "            file_path.append(path)\n",
    "            file_label.append(l)\n",
    "        else:\n",
    "            file_path_test.append(path)\n",
    "            file_label_test.append(l)\n",
    "        number_label += 1\n",
    "        if number_label >= 8:\n",
    "            break"
   ]
  },
  {
   "cell_type": "code",
   "execution_count": 3,
   "metadata": {},
   "outputs": [
    {
     "name": "stdout",
     "output_type": "stream",
     "text": [
      "      Cry                                               Path\n",
      "0  hungry  donateacry-corpus-master/donateacry_corpus_cle...\n",
      "1  hungry  donateacry-corpus-master/donateacry_corpus_cle...\n",
      "2  hungry  donateacry-corpus-master/donateacry_corpus_cle...\n",
      "3  hungry  donateacry-corpus-master/donateacry_corpus_cle...\n",
      "4  hungry  donateacry-corpus-master/donateacry_corpus_cle...\n",
      "------------------------------\n",
      "      Cry                                               Path\n",
      "20  tired  donateacry-corpus-master/donateacry_corpus_cle...\n",
      "21  tired  donateacry-corpus-master/donateacry_corpus_cle...\n",
      "22  tired  donateacry-corpus-master/donateacry_corpus_cle...\n",
      "23  tired  donateacry-corpus-master/donateacry_corpus_cle...\n",
      "24  tired  donateacry-corpus-master/donateacry_corpus_cle...\n",
      "------------------------------\n",
      "hungry        5\n",
      "discomfort    5\n",
      "burping       5\n",
      "belly_pain    5\n",
      "tired         5\n",
      "Name: Cry, dtype: int64\n",
      "hungry        3\n",
      "discomfort    3\n",
      "burping       3\n",
      "belly_pain    3\n",
      "tired         3\n",
      "Name: Cry, dtype: int64\n"
     ]
    }
   ],
   "source": [
    "label_df = pd.DataFrame(file_label, columns=[\"Cry\"])\n",
    "path_df = pd.DataFrame(file_path, columns=[\"Path\"])\n",
    "cry_df = pd.concat([label_df, path_df], axis=1)\n",
    "label_df_test = pd.DataFrame(file_label_test, columns=[\"Cry\"])\n",
    "path_df_test = pd.DataFrame(file_path_test, columns=[\"Path\"])\n",
    "cry_df_test = pd.concat([label_df_test, path_df_test], axis=1)\n",
    "print(cry_df.head())\n",
    "print(\"------------------------------\")\n",
    "print(cry_df.tail())\n",
    "print(\"------------------------------\")\n",
    "print(cry_df.Cry.value_counts())\n",
    "print(cry_df_test.Cry.value_counts())\n",
    "\n",
    "cry_df.to_csv(\"cry_path.cvs\", index=False)\n",
    "cry_df_test.to_csv(\"cry_path_test.cvs\", index=False)"
   ]
  },
  {
   "cell_type": "markdown",
   "metadata": {},
   "source": [
    "Visualize some data"
   ]
  },
  {
   "cell_type": "code",
   "execution_count": 4,
   "metadata": {},
   "outputs": [
    {
     "data": {
      "image/png": "[encoded data removed]",
      "text/plain": [
       "<Figure size 432x288 with 1 Axes>"
      ]
     },
     "metadata": {
      "needs_background": "light"
     },
     "output_type": "display_data"
    },
    {
     "data": {
      "image/png": "[encoded data removed]",
      "text/plain": [
       "<Figure size 432x288 with 1 Axes>"
      ]
     },
     "metadata": {
      "needs_background": "light"
     },
     "output_type": "display_data"
    }
   ],
   "source": [
    "plt.title(\"Count of cries in train\", size=16)\n",
    "sns.countplot(cry_df.Cry)\n",
    "plt.xlabel(\"Count\", size=12)\n",
    "plt.ylabel(\"Cries\", size=12)\n",
    "plt.show()\n",
    "plt.title(\"Count of cries in test\", size=16)\n",
    "sns.countplot(cry_df_test.Cry)\n",
    "plt.xlabel(\"Count\", size=12)\n",
    "plt.ylabel(\"Cries\", size=12)\n",
    "plt.show()"
   ]
  },
  {
   "cell_type": "markdown",
   "metadata": {},
   "source": [
    "Data argumentation methods"
   ]
  },
  {
   "cell_type": "code",
   "execution_count": 5,
   "metadata": {},
   "outputs": [],
   "source": [
    "# Add noise\n",
    "def noise(data):\n",
    "    noise_amp  = 0.035*np.random.uniform()*np.amax(data)\n",
    "    data = data + noise_amp*np.random.normal(size=data.shape[0])\n",
    "    return data\n",
    "\n",
    "# Stretch\n",
    "def stretch(data, rate=0.8):\n",
    "    return librosa.effects.time_stretch(data, rate=rate)\n",
    "\n",
    "# Shift\n",
    "def shift(data):\n",
    "    shift_range = int(np.random.uniform(low=-5, high=5)*1000)\n",
    "    return np.roll(data, shift_range)\n",
    "\n",
    "# Pitch\n",
    "def pitch(data, sampling_rate, pitch_factor=0.7):\n",
    "    return librosa.effects.pitch_shift(data, sr=sampling_rate, n_steps=pitch_factor)"
   ]
  },
  {
   "cell_type": "markdown",
   "metadata": {},
   "source": [
    "Display normal audio"
   ]
  },
  {
   "cell_type": "code",
   "execution_count": 6,
   "metadata": {},
   "outputs": [
    {
     "data": {
      "text/plain": [
       "<librosa.display.AdaptiveWaveplot at 0x7facb4bcec80>"
      ]
     },
     "execution_count": 6,
     "metadata": {},
     "output_type": "execute_result"
    },
    {
     "data": {
      "image/png": "[encoded data removed]",
      "text/plain": [
       "<Figure size 864x360 with 1 Axes>"
      ]
     },
     "metadata": {
      "needs_background": "light"
     },
     "output_type": "display_data"
    }
   ],
   "source": [
    "data, sr  = librosa.load(file_path[0])\n",
    "\n",
    "plt.figure(figsize=(12, 5))\n",
    "librosa.display.waveshow(y=data, sr=sr)"
   ]
  },
  {
   "cell_type": "markdown",
   "metadata": {},
   "source": [
    "Display audio with noise"
   ]
  },
  {
   "cell_type": "code",
   "execution_count": 7,
   "metadata": {},
   "outputs": [
    {
     "data": {
      "text/plain": [
       "<librosa.display.AdaptiveWaveplot at 0x7facb4b3e170>"
      ]
     },
     "execution_count": 7,
     "metadata": {},
     "output_type": "execute_result"
    },
    {
     "data": {
      "image/png": "[encoded data removed]",
      "text/plain": [
       "<Figure size 864x360 with 1 Axes>"
      ]
     },
     "metadata": {
      "needs_background": "light"
     },
     "output_type": "display_data"
    }
   ],
   "source": [
    "x = noise(data)\n",
    "plt.figure(figsize=(12, 5))\n",
    "librosa.display.waveshow(y=x, sr=sr)"
   ]
  },
  {
   "cell_type": "markdown",
   "metadata": {},
   "source": [
    "Display streched audio"
   ]
  },
  {
   "cell_type": "code",
   "execution_count": 8,
   "metadata": {},
   "outputs": [
    {
     "data": {
      "text/plain": [
       "<librosa.display.AdaptiveWaveplot at 0x7facb4bb3f70>"
      ]
     },
     "execution_count": 8,
     "metadata": {},
     "output_type": "execute_result"
    },
    {
     "data": {
      "image/png": "[encoded data removed]",
      "text/plain": [
       "<Figure size 864x360 with 1 Axes>"
      ]
     },
     "metadata": {
      "needs_background": "light"
     },
     "output_type": "display_data"
    }
   ],
   "source": [
    "x = stretch(data)\n",
    "plt.figure(figsize=(12, 5))\n",
    "librosa.display.waveshow(y=x, sr=sr)"
   ]
  },
  {
   "cell_type": "markdown",
   "metadata": {},
   "source": [
    "Display shifted audio"
   ]
  },
  {
   "cell_type": "code",
   "execution_count": 9,
   "metadata": {},
   "outputs": [
    {
     "data": {
      "text/plain": [
       "<librosa.display.AdaptiveWaveplot at 0x7fabe403a5f0>"
      ]
     },
     "execution_count": 9,
     "metadata": {},
     "output_type": "execute_result"
    },
    {
     "data": {
      "image/png": "[encoded data removed]",
      "text/plain": [
       "<Figure size 864x360 with 1 Axes>"
      ]
     },
     "metadata": {
      "needs_background": "light"
     },
     "output_type": "display_data"
    }
   ],
   "source": [
    "x = shift(data)\n",
    "plt.figure(figsize=(12,5))\n",
    "librosa.display.waveshow(y=x, sr=sr)"
   ]
  },
  {
   "cell_type": "markdown",
   "metadata": {},
   "source": [
    "Display pitched audio"
   ]
  },
  {
   "cell_type": "code",
   "execution_count": 10,
   "metadata": {},
   "outputs": [
    {
     "data": {
      "text/plain": [
       "<librosa.display.AdaptiveWaveplot at 0x7fac54258f70>"
      ]
     },
     "execution_count": 10,
     "metadata": {},
     "output_type": "execute_result"
    },
    {
     "data": {
      "image/png": "[encoded data removed]",
      "text/plain": [
       "<Figure size 864x360 with 1 Axes>"
      ]
     },
     "metadata": {
      "needs_background": "light"
     },
     "output_type": "display_data"
    }
   ],
   "source": [
    "x = pitch(data, sr)\n",
    "plt.figure(figsize=(12, 5))\n",
    "librosa.display.waveshow(y=x, sr=sr)"
   ]
  },
  {
   "cell_type": "markdown",
   "metadata": {},
   "source": [
    "Feature extraction methods"
   ]
  },
  {
   "cell_type": "code",
   "execution_count": 11,
   "metadata": {},
   "outputs": [],
   "source": [
    "def shift_array(arr, shift_amount, fill_value = np.nan):\n",
    "    '''Shifts the array either left or right by the shift_amount (which can be negative or positive)\n",
    "     \n",
    "       From: https://stackoverflow.com/a/42642326\n",
    "    '''\n",
    "    result = np.empty_like(arr)\n",
    "    if shift_amount > 0:\n",
    "        result[:shift_amount] = fill_value\n",
    "        result[shift_amount:] = arr[:-shift_amount]\n",
    "    elif shift_amount < 0:\n",
    "        result[shift_amount:] = fill_value\n",
    "        result[:shift_amount] = arr[-shift_amount:]\n",
    "    else:\n",
    "        result[:] = arr\n",
    "    return result\n",
    "\n",
    "def pad_zeros_right(s, padding_length):\n",
    "    # https://numpy.org/doc/1.18/reference/generated/numpy.pad.html\n",
    "    return np.pad(s, (0, padding_length), mode = 'constant', constant_values=0)\n",
    "\n",
    "def align_peak(a, b, pad_function = None):\n",
    "    # Aligns signals using cross correlation and then plots\n",
    "    if(len(a) != len(b) and pad_function is None):\n",
    "        raise Exception(f\"Signal 'a' and 'b' must be the same size; len(a)={len(a)} and len(b)={len(b)} or pad_function must not be None\")\n",
    "    elif(len(a) != len(b) and pad_function is not None):\n",
    "        if(len(a) < len(b)):\n",
    "            a = pad_function(a, len(b) - len(a))\n",
    "        else:\n",
    "            b = pad_function(b, len(a) - len(b))\n",
    "    \n",
    "    correlate_result = np.correlate(a, b, 'full')\n",
    "    \n",
    "    best_correlation_index = np.argmax(correlate_result)\n",
    "    shift_amount = (-len(a) + 1) + best_correlation_index\n",
    "    return shift_array(b, shift_amount, 0)\n",
    "\n",
    "def feature_scaling(feat):\n",
    "    # Perform Feature Scaling\n",
    "    feats = pr.scale(feat, axis=1)\n",
    "    return feats.mean(), feats.var()\n",
    "\n",
    "# Zero crossing rate\n",
    "def zcr(data, frame_lenght, hop_length):\n",
    "    cr = librosa.feature.zero_crossing_rate(data, frame_length=frame_lenght, hop_length=hop_length, pad=False)\n",
    "    return np.mean(cr, axis=1), np.var(cr, axis=1)\n",
    "\n",
    "# RMS Energy\n",
    "def rmse(data, frame_lenght=2048, hop_length=512):\n",
    "    rms = librosa.feature.rms(y=data, frame_length=frame_lenght, hop_length=hop_length)\n",
    "    return np.mean(rms, axis=1), np.var(rms, axis=1)\n",
    "\n",
    "# Mel-frequency cepstral coefficients\n",
    "def mfcc(data, sr, flatten: bool=True):\n",
    "    mfc = librosa.feature.mfcc(y=data, sr=sr)\n",
    "    return np.mean(mfc, axis=1), np.var(mfc, axis=1)\n",
    "\n",
    "# Chroma stft\n",
    "def chroma(data, sr):\n",
    "    stft = np.abs(librosa.stft(data))\n",
    "    chroma_stft = librosa.feature.chroma_stft(S=stft, sr=sr)\n",
    "    return np.mean(chroma_stft, axis=1), np.var(chroma_stft, axis=1)\n",
    "\n",
    "# Harmonic and perceptuals\n",
    "def harper(data):\n",
    "    y_harm, y_perc = librosa.effects.hpss(y=data)\n",
    "    return np.mean(y_harm), np.var(y_harm), np.mean(y_perc), np.var(y_perc)\n",
    "\n",
    "# Beats per minute\n",
    "def tempo(data, sr):\n",
    "    tempo, beats = librosa.beat.beat_track(y=data, sr = sr)\n",
    "    return tempo, np.mean(beats), np.var(beats)\n",
    "\n",
    "# Spectral centroid\n",
    "def specen(data, sr):\n",
    "    spectral_centroids = librosa.feature.spectral_centroid(y=data, sr=sr)\n",
    "    return np.mean(spectral_centroids, axis=1), np.var(spectral_centroids, axis=1)\n",
    "\n",
    "# Spectral rolloff\n",
    "def specroll(data, sr):\n",
    "    spectral_rolloff = librosa.feature.spectral_rolloff(y=data, sr=sr)\n",
    "    return np.mean(spectral_rolloff, axis=1), np.var(spectral_rolloff, axis=1)\n",
    "\n",
    "def extract_features(data, sr, frame_lenght=2048, hop_length=512):\n",
    "    zcr_mean, zcr_var = zcr(data, frame_lenght, hop_length)\n",
    "    rmse_mean, rmse_var = rmse(data, frame_lenght, hop_length)\n",
    "    mfcc_mean, mfcc_var = mfcc(data, sr)\n",
    "    chroma_mean, chroma_var = chroma(data, sr)\n",
    "    specroll_mean, specroll_var = specroll(data, sr)\n",
    "    specen_mean, specen_var = specen(data, sr)\n",
    "    temp, beat_mean, beat_var = tempo(data, sr)\n",
    "    harm_mean, harm_var, perc_mean, perc_var = harper(data)\n",
    "    \n",
    "    result = {\"tempo\": temp, \n",
    "            \"beat_mean\": beat_mean, \n",
    "            \"beat_var\": beat_var,\n",
    "            \"harm_mean\": harm_mean, \n",
    "            \"harm_var\": harm_var, \n",
    "            \"perc_mean\": perc_mean, \n",
    "            \"perc_var\": perc_var\n",
    "    } \n",
    "\n",
    "    for y, featu in zip([[specen_mean, specen_var], [mfcc_mean, mfcc_var], [specroll_mean, specroll_var], [chroma_mean, chroma_var], [rmse_mean, rmse_var], [zcr_mean, zcr_var]], [\"specen\", \"mfcc\", \"specroll\", \"chroma\", \"rms\", \"zcr\"]):\n",
    "        mea, vari = y[0], y[1]\n",
    "        for m, v, i in zip(mea, vari, range(len(mea))):\n",
    "            result[f\"{featu}_mean_{i}\"] = m\n",
    "            result[f\"{featu}_var_{i}\"] = v\n",
    "    #for da, i in zip(data, range(len(data))):\n",
    "     #   result[f\"data_{i}\"] = da\n",
    "    return result\n",
    "\n",
    "def trim_silence(soundwave):\n",
    "    return librosa.effects.trim(soundwave) # Remove leading and trailing silence\n",
    "\n",
    "def get_features(path):\n",
    "    read_in_sampling_rate = 6000 # 3,000 Hz is the lowest sampling rate that will play in Chrome\n",
    "    data, sr = librosa.load(path, sr=read_in_sampling_rate)\n",
    "    data, _ = librosa.effects.trim(data)\n",
    "    # Remove noise\n",
    "    data = librosa.effects.preemphasis(data)\n",
    "    data = librosa.util.normalize(data)\n",
    "    D = librosa.stft(data)\n",
    "    db = librosa.amplitude_to_db(np.abs(D), ref=np.max)\n",
    "    data, _ = librosa.effects.trim(data, top_db=np.abs(db[0])*0.50)\n",
    "    # Give same peak to all audio\n",
    "    \n",
    "    aligner = np.zeros(data.shape[0] + 500)\n",
    "    aligner[int((data.shape[0] + 500)/2)] = 1\n",
    "    aligner[int((data.shape[0] + 500)/2) + 1] = -1\n",
    "    data = align_peak(aligner, data, pad_function = pad_zeros_right)\n",
    "    \n",
    "    frame_size = int(sr * 0.5)  # 1.5 seconds\n",
    "    hop_size = int(sr * 0.5)    # 0.5 seconds\n",
    "    \n",
    "    frames_ = librosa.util.frame(data, frame_length=frame_size, hop_length=hop_size, axis=0)\n",
    "    aud_1 = []\n",
    "    aud_2 = []\n",
    "    aud_3 = []\n",
    "    aud_4 = []\n",
    "    frames = []\n",
    "    for frame in frames_: \n",
    "        frame = librosa.effects.preemphasis(frame)\n",
    "        frame, _ = librosa.effects.trim(frame)\n",
    "        if len(frame) == 0:\n",
    "            print(\"frame lenght equals 0\")\n",
    "            continue\n",
    "        frames.append(frame)\n",
    "            \n",
    "        aud = extract_features(data, sr)\n",
    "        aud_1.append(aud)\n",
    "\n",
    "        noised_audio = noise(data)\n",
    "        aud2 = extract_features(noised_audio, sr)\n",
    "        aud_2.append(aud2)\n",
    "        \n",
    "        pitched_audio = pitch(data, sr)\n",
    "        aud3 = extract_features(pitched_audio, sr)\n",
    "        aud_3.append(aud3)\n",
    "\n",
    "        pitched_audio_ = pitch(data, sr)\n",
    "        pitched_noised_audio = noise(pitched_audio_)\n",
    "        aud4 = extract_features(pitched_noised_audio, sr)\n",
    "        aud_4.append(aud4)\n",
    "            \n",
    "    return aud_1, aud_2, aud_3, aud_4, frames\n"
   ]
  },
  {
   "cell_type": "markdown",
   "metadata": {},
   "source": [
    "Get Features"
   ]
  },
  {
   "cell_type": "code",
   "execution_count": 12,
   "metadata": {},
   "outputs": [
    {
     "name": "stderr",
     "output_type": "stream",
     "text": [
      "1it [00:06,  6.91s/it]"
     ]
    },
    {
     "name": "stdout",
     "output_type": "stream",
     "text": [
      "0/25 audio has been processed\n"
     ]
    },
    {
     "name": "stderr",
     "output_type": "stream",
     "text": [
      "5it [00:30,  6.08s/it]"
     ]
    },
    {
     "name": "stdout",
     "output_type": "stream",
     "text": [
      "50/25 audio has been processed\n"
     ]
    },
    {
     "name": "stderr",
     "output_type": "stream",
     "text": [
      "8it [00:50,  6.44s/it]"
     ]
    },
    {
     "name": "stdout",
     "output_type": "stream",
     "text": [
      "100/25 audio has been processed\n"
     ]
    },
    {
     "name": "stderr",
     "output_type": "stream",
     "text": [
      "12it [01:14,  6.16s/it]"
     ]
    },
    {
     "name": "stdout",
     "output_type": "stream",
     "text": [
      "150/25 audio has been processed\n"
     ]
    },
    {
     "name": "stderr",
     "output_type": "stream",
     "text": [
      "16it [01:42,  6.84s/it]"
     ]
    },
    {
     "name": "stdout",
     "output_type": "stream",
     "text": [
      "200/25 audio has been processed\n"
     ]
    },
    {
     "name": "stderr",
     "output_type": "stream",
     "text": [
      "20it [02:07,  6.40s/it]"
     ]
    },
    {
     "name": "stdout",
     "output_type": "stream",
     "text": [
      "250/25 audio has been processed\n"
     ]
    },
    {
     "name": "stderr",
     "output_type": "stream",
     "text": [
      "24it [02:33,  6.53s/it]"
     ]
    },
    {
     "name": "stdout",
     "output_type": "stream",
     "text": [
      "300/25 audio has been processed\n"
     ]
    },
    {
     "name": "stderr",
     "output_type": "stream",
     "text": [
      "25it [02:36,  6.26s/it]\n",
      "1it [00:06,  6.32s/it]"
     ]
    },
    {
     "name": "stdout",
     "output_type": "stream",
     "text": [
      "0/25 audio has been processed\n"
     ]
    },
    {
     "name": "stderr",
     "output_type": "stream",
     "text": [
      "4it [00:27,  6.88s/it]"
     ]
    },
    {
     "name": "stdout",
     "output_type": "stream",
     "text": [
      "50/25 audio has been processed\n"
     ]
    },
    {
     "name": "stderr",
     "output_type": "stream",
     "text": [
      "8it [00:51,  6.04s/it]"
     ]
    },
    {
     "name": "stdout",
     "output_type": "stream",
     "text": [
      "100/25 audio has been processed\n"
     ]
    },
    {
     "name": "stderr",
     "output_type": "stream",
     "text": [
      "12it [01:19,  6.74s/it]"
     ]
    },
    {
     "name": "stdout",
     "output_type": "stream",
     "text": [
      "150/25 audio has been processed\n"
     ]
    },
    {
     "name": "stderr",
     "output_type": "stream",
     "text": [
      "15it [01:38,  6.54s/it]"
     ]
    },
    {
     "name": "stdout",
     "output_type": "stream",
     "text": [
      "Done extracting features\n",
      "Time:  254.66339924600004\n",
      "Number of trains:  1288\n",
      "Number of tests:  800\n"
     ]
    },
    {
     "name": "stderr",
     "output_type": "stream",
     "text": [
      "\n"
     ]
    }
   ],
   "source": [
    "start = timeit.default_timer()\n",
    "X, Y = [], []\n",
    "belly_pain, hungry, tired, burping, discomfort = [], [], [], [], []\n",
    "belly_pain_test, hungry_test, tired_test, burping_test, discomfort_test = [], [], [], [], []\n",
    "X_test, Y_test = [], []\n",
    "index = 0\n",
    "for path, cry in tqdm (zip(cry_df.Path, cry_df.Cry)):\n",
    "    features, features2, features3, features4, frames = get_features(path)\n",
    "    for f in range(len(frames)):\n",
    "        if index % 50 == 0:\n",
    "            print(f'{index}/{len(cry_df.Path)} audio has been processed')\n",
    "        if cry == 'hungry':\n",
    "            hungry.append(features[f])\n",
    "            hungry.append(features2[f])\n",
    "            hungry.append(features3[f])\n",
    "            hungry.append(features4[f]) \n",
    "        elif cry == 'discomfort':\n",
    "            discomfort.append(features[f])\n",
    "            discomfort.append(features2[f])\n",
    "            discomfort.append(features3[f])\n",
    "            discomfort.append(features4[f]) \n",
    "        elif cry == 'burping':\n",
    "            burping.append(features[f])\n",
    "            burping.append(features2[f])\n",
    "            burping.append(features3[f])\n",
    "            burping.append(features4[f]) \n",
    "        elif cry == 'belly_pain': \n",
    "            belly_pain.append(features[f])\n",
    "            belly_pain.append(features2[f])\n",
    "            belly_pain.append(features3[f])\n",
    "            belly_pain.append(features4[f]) \n",
    "        elif cry == 'tired':\n",
    "            tired.append(features[f])\n",
    "            tired.append(features2[f])\n",
    "            tired.append(features3[f])\n",
    "            tired.append(features4[f]) \n",
    "        else:\n",
    "            print(\"unrecognized label\")\n",
    "            continue\n",
    "        X.append(features[f])\n",
    "        X.append(features2[f])\n",
    "        X.append(features3[f])\n",
    "        X.append(features4[f])\n",
    "        Y.append(cry)\n",
    "        Y.append(cry)\n",
    "        Y.append(cry)\n",
    "        Y.append(cry)\n",
    "        index += 1\n",
    "\n",
    "index_test = 0\n",
    "for path_test, cry_test in tqdm (zip(cry_df_test.Path, cry_df_test.Cry)):\n",
    "    features_test, features_test2, features_test3, features_test4, frames = get_features(path_test)\n",
    "    for f in range(len(frames)):\n",
    "        if index_test % 50 == 0:\n",
    "            print(f'{index_test}/{len(cry_df.Path)} audio has been processed')\n",
    "        if cry_test == 'hungry':\n",
    "            hungry_test.append(features_test[f])\n",
    "            hungry_test.append(features_test2[f])\n",
    "            hungry_test.append(features_test3[f])\n",
    "            hungry_test.append(features_test4[f]) \n",
    "        elif cry_test == 'discomfort':\n",
    "            discomfort_test.append(features_test[f])\n",
    "            discomfort_test.append(features_test2[f])\n",
    "            discomfort_test.append(features_test3[f])\n",
    "            discomfort_test.append(features_test4[f]) \n",
    "        elif cry_test == 'burping':\n",
    "            burping_test.append(features_test[f])\n",
    "            burping_test.append(features_test2[f])\n",
    "            burping_test.append(features_test3[f])\n",
    "            burping_test.append(features_test4[f])            \n",
    "        elif cry_test == 'belly_pain': \n",
    "            belly_pain_test.append(features_test[f])\n",
    "            belly_pain_test.append(features_test2[f])\n",
    "            belly_pain_test.append(features_test3[f])\n",
    "            belly_pain_test.append(features_test4[f])\n",
    "        elif cry_test == 'tired':\n",
    "            tired_test.append(features_test[f])\n",
    "            tired_test.append(features_test2[f])\n",
    "            tired_test.append(features_test3[f])\n",
    "            tired_test.append(features_test4[f])\n",
    "        else:\n",
    "            print(\"unrecognized label\")\n",
    "            continue\n",
    "        X_test.append(features_test[f])\n",
    "        X_test.append(features_test2[f])\n",
    "        X_test.append(features_test3[f])\n",
    "        X_test.append(features_test4[f])\n",
    "        Y_test.append(cry_test)\n",
    "        Y_test.append(cry_test)\n",
    "        Y_test.append(cry_test)\n",
    "        Y_test.append(cry_test)\n",
    "        index_test += 1             \n",
    "\n",
    "print('Done extracting features')\n",
    "stop = timeit.default_timer()\n",
    "print('Time: ', stop - start) \n",
    "print(\"Number of trains: \", len(Y))\n",
    "print(\"Number of tests: \", len(Y_test))"
   ]
  },
  {
   "cell_type": "code",
   "execution_count": null,
   "metadata": {},
   "outputs": [],
   "source": []
  },
  {
   "cell_type": "code",
   "execution_count": 13,
   "metadata": {},
   "outputs": [
    {
     "name": "stdout",
     "output_type": "stream",
     "text": [
      "(1288, 1288, (25,))\n"
     ]
    }
   ],
   "source": [
    "print(f\"({len(X)}, {len(Y)}, {cry_df.Path.shape})\")"
   ]
  },
  {
   "cell_type": "markdown",
   "metadata": {},
   "source": [
    "Save features"
   ]
  },
  {
   "cell_type": "code",
   "execution_count": 14,
   "metadata": {},
   "outputs": [
    {
     "data": {
      "text/html": [
       "<div>\n",
       "<style scoped>\n",
       "    .dataframe tbody tr th:only-of-type {\n",
       "        vertical-align: middle;\n",
       "    }\n",
       "\n",
       "    .dataframe tbody tr th {\n",
       "        vertical-align: top;\n",
       "    }\n",
       "\n",
       "    .dataframe thead th {\n",
       "        text-align: right;\n",
       "    }\n",
       "</style>\n",
       "<table border=\"1\" class=\"dataframe\">\n",
       "  <thead>\n",
       "    <tr style=\"text-align: right;\">\n",
       "      <th></th>\n",
       "      <th>tempo</th>\n",
       "      <th>beat_mean</th>\n",
       "      <th>beat_var</th>\n",
       "      <th>harm_mean</th>\n",
       "      <th>harm_var</th>\n",
       "      <th>perc_mean</th>\n",
       "      <th>perc_var</th>\n",
       "      <th>specen_mean_0</th>\n",
       "      <th>specen_var_0</th>\n",
       "      <th>mfcc_mean_0</th>\n",
       "      <th>...</th>\n",
       "      <th>chroma_var_9</th>\n",
       "      <th>chroma_mean_10</th>\n",
       "      <th>chroma_var_10</th>\n",
       "      <th>chroma_mean_11</th>\n",
       "      <th>chroma_var_11</th>\n",
       "      <th>rms_mean_0</th>\n",
       "      <th>rms_var_0</th>\n",
       "      <th>zcr_mean_0</th>\n",
       "      <th>zcr_var_0</th>\n",
       "      <th>Labels</th>\n",
       "    </tr>\n",
       "  </thead>\n",
       "  <tbody>\n",
       "    <tr>\n",
       "      <th>0</th>\n",
       "      <td>175.781250</td>\n",
       "      <td>30.00</td>\n",
       "      <td>20.0000</td>\n",
       "      <td>-0.000002</td>\n",
       "      <td>0.000173</td>\n",
       "      <td>-3.370285e-07</td>\n",
       "      <td>0.063506</td>\n",
       "      <td>1119.355560</td>\n",
       "      <td>597932.720716</td>\n",
       "      <td>-250.758987</td>\n",
       "      <td>...</td>\n",
       "      <td>0.152893</td>\n",
       "      <td>0.266957</td>\n",
       "      <td>0.110903</td>\n",
       "      <td>0.159732</td>\n",
       "      <td>0.048189</td>\n",
       "      <td>0.187219</td>\n",
       "      <td>0.030227</td>\n",
       "      <td>0.347093</td>\n",
       "      <td>0.062708</td>\n",
       "      <td>hungry</td>\n",
       "    </tr>\n",
       "    <tr>\n",
       "      <th>1</th>\n",
       "      <td>175.781250</td>\n",
       "      <td>30.00</td>\n",
       "      <td>20.0000</td>\n",
       "      <td>0.000003</td>\n",
       "      <td>0.000176</td>\n",
       "      <td>5.393783e-06</td>\n",
       "      <td>0.063499</td>\n",
       "      <td>1598.038040</td>\n",
       "      <td>11535.710005</td>\n",
       "      <td>-181.721760</td>\n",
       "      <td>...</td>\n",
       "      <td>0.087936</td>\n",
       "      <td>0.425049</td>\n",
       "      <td>0.089087</td>\n",
       "      <td>0.350378</td>\n",
       "      <td>0.108856</td>\n",
       "      <td>0.188102</td>\n",
       "      <td>0.029898</td>\n",
       "      <td>0.508971</td>\n",
       "      <td>0.003690</td>\n",
       "      <td>hungry</td>\n",
       "    </tr>\n",
       "    <tr>\n",
       "      <th>2</th>\n",
       "      <td>87.890625</td>\n",
       "      <td>19.80</td>\n",
       "      <td>144.5600</td>\n",
       "      <td>-0.000002</td>\n",
       "      <td>0.000477</td>\n",
       "      <td>7.449444e-07</td>\n",
       "      <td>0.031466</td>\n",
       "      <td>1257.266597</td>\n",
       "      <td>518831.267293</td>\n",
       "      <td>-272.869202</td>\n",
       "      <td>...</td>\n",
       "      <td>0.152516</td>\n",
       "      <td>0.360396</td>\n",
       "      <td>0.124645</td>\n",
       "      <td>0.229052</td>\n",
       "      <td>0.062677</td>\n",
       "      <td>0.138419</td>\n",
       "      <td>0.016262</td>\n",
       "      <td>0.382944</td>\n",
       "      <td>0.060624</td>\n",
       "      <td>hungry</td>\n",
       "    </tr>\n",
       "    <tr>\n",
       "      <th>3</th>\n",
       "      <td>117.187500</td>\n",
       "      <td>23.25</td>\n",
       "      <td>180.1875</td>\n",
       "      <td>-0.000031</td>\n",
       "      <td>0.000739</td>\n",
       "      <td>-4.888541e-05</td>\n",
       "      <td>0.031521</td>\n",
       "      <td>1582.992331</td>\n",
       "      <td>7370.954265</td>\n",
       "      <td>-50.554428</td>\n",
       "      <td>...</td>\n",
       "      <td>0.080034</td>\n",
       "      <td>0.586235</td>\n",
       "      <td>0.073644</td>\n",
       "      <td>0.488380</td>\n",
       "      <td>0.076842</td>\n",
       "      <td>0.149797</td>\n",
       "      <td>0.013884</td>\n",
       "      <td>0.525046</td>\n",
       "      <td>0.003837</td>\n",
       "      <td>hungry</td>\n",
       "    </tr>\n",
       "    <tr>\n",
       "      <th>4</th>\n",
       "      <td>175.781250</td>\n",
       "      <td>30.00</td>\n",
       "      <td>20.0000</td>\n",
       "      <td>-0.000002</td>\n",
       "      <td>0.000173</td>\n",
       "      <td>-3.370285e-07</td>\n",
       "      <td>0.063506</td>\n",
       "      <td>1119.355560</td>\n",
       "      <td>597932.720716</td>\n",
       "      <td>-250.758987</td>\n",
       "      <td>...</td>\n",
       "      <td>0.152893</td>\n",
       "      <td>0.266957</td>\n",
       "      <td>0.110903</td>\n",
       "      <td>0.159732</td>\n",
       "      <td>0.048189</td>\n",
       "      <td>0.187219</td>\n",
       "      <td>0.030227</td>\n",
       "      <td>0.347093</td>\n",
       "      <td>0.062708</td>\n",
       "      <td>hungry</td>\n",
       "    </tr>\n",
       "  </tbody>\n",
       "</table>\n",
       "<p>5 rows × 80 columns</p>\n",
       "</div>"
      ],
      "text/plain": [
       "        tempo  beat_mean  beat_var  harm_mean  harm_var     perc_mean  \\\n",
       "0  175.781250      30.00   20.0000  -0.000002  0.000173 -3.370285e-07   \n",
       "1  175.781250      30.00   20.0000   0.000003  0.000176  5.393783e-06   \n",
       "2   87.890625      19.80  144.5600  -0.000002  0.000477  7.449444e-07   \n",
       "3  117.187500      23.25  180.1875  -0.000031  0.000739 -4.888541e-05   \n",
       "4  175.781250      30.00   20.0000  -0.000002  0.000173 -3.370285e-07   \n",
       "\n",
       "   perc_var  specen_mean_0   specen_var_0  mfcc_mean_0  ...  chroma_var_9  \\\n",
       "0  0.063506    1119.355560  597932.720716  -250.758987  ...      0.152893   \n",
       "1  0.063499    1598.038040   11535.710005  -181.721760  ...      0.087936   \n",
       "2  0.031466    1257.266597  518831.267293  -272.869202  ...      0.152516   \n",
       "3  0.031521    1582.992331    7370.954265   -50.554428  ...      0.080034   \n",
       "4  0.063506    1119.355560  597932.720716  -250.758987  ...      0.152893   \n",
       "\n",
       "   chroma_mean_10  chroma_var_10  chroma_mean_11  chroma_var_11  rms_mean_0  \\\n",
       "0        0.266957       0.110903        0.159732       0.048189    0.187219   \n",
       "1        0.425049       0.089087        0.350378       0.108856    0.188102   \n",
       "2        0.360396       0.124645        0.229052       0.062677    0.138419   \n",
       "3        0.586235       0.073644        0.488380       0.076842    0.149797   \n",
       "4        0.266957       0.110903        0.159732       0.048189    0.187219   \n",
       "\n",
       "   rms_var_0  zcr_mean_0  zcr_var_0  Labels  \n",
       "0   0.030227    0.347093   0.062708  hungry  \n",
       "1   0.029898    0.508971   0.003690  hungry  \n",
       "2   0.016262    0.382944   0.060624  hungry  \n",
       "3   0.013884    0.525046   0.003837  hungry  \n",
       "4   0.030227    0.347093   0.062708  hungry  \n",
       "\n",
       "[5 rows x 80 columns]"
      ]
     },
     "execution_count": 14,
     "metadata": {},
     "output_type": "execute_result"
    }
   ],
   "source": [
    "tired_df = pd.DataFrame(tired)\n",
    "tired_df = tired_df.fillna(0)\n",
    "tired_df.to_csv(\"tired.csv\", index=False)\n",
    "tired_test_df = pd.DataFrame(tired_test)\n",
    "tired_test_df = tired_test_df.fillna(0)\n",
    "tired_test_df.to_csv(\"tired_test.csv\", index=False)\n",
    "discomfort_df = pd.DataFrame(discomfort)\n",
    "discomfort_df = discomfort_df.fillna(0)\n",
    "discomfort_df.to_csv(\"discomfort.csv\", index=False)\n",
    "discomfort_test_df = pd.DataFrame(discomfort_test)\n",
    "discomfort_test_df = discomfort_test_df.fillna(0)\n",
    "discomfort_test_df.to_csv(\"discomfort_test.csv\", index=False)\n",
    "hungry_df = pd.DataFrame(hungry)\n",
    "hungry_df = hungry_df.fillna(0)\n",
    "hungry_df.to_csv(\"hungry.csv\", index=False)\n",
    "hungry_test_df = pd.DataFrame(hungry_test)\n",
    "hungry_test_df = hungry_test_df.fillna(0)\n",
    "hungry_test_df.to_csv(\"hungry_test.csv\", index=False)\n",
    "belly_pain_df = pd.DataFrame(belly_pain)\n",
    "belly_pain_df = belly_pain_df.fillna(0)\n",
    "belly_pain_df.to_csv(\"belly_pain.csv\", index=False)\n",
    "belly_pain_test_df = pd.DataFrame(belly_pain_test)\n",
    "belly_pain_test_df = belly_pain_test_df.fillna(0)\n",
    "belly_pain_test_df.to_csv(\"belly_pain_test.csv\", index=False)\n",
    "burping_df = pd.DataFrame(burping)\n",
    "burping_df = burping_df.fillna(0)\n",
    "burping_df.to_csv(\"burping.csv\", index=False)\n",
    "burping_test_df = pd.DataFrame(burping_test)\n",
    "burping_test_df = burping_test_df.fillna(0)\n",
    "burping_test_df.to_csv(\"burping_test.csv\", index=False)\n",
    "Cries = pd.DataFrame(X)\n",
    "#Cries = (Cries-Cries.min())/(Cries.max()-Cries.min())\n",
    "Cries[\"Labels\"] = Y\n",
    "Cries = Cries.fillna(0)\n",
    "Cries.to_csv(\"cries_8.csv\", index=False)\n",
    "Cries_test = pd.DataFrame(X_test)\n",
    "#Cries_test = (Cries_test-Cries_test.min())/(Cries_test.max()-Cries_test.min())\n",
    "Cries_test[\"Labels\"] = Y_test\n",
    "Cries_test = Cries_test.fillna(0)\n",
    "Cries_test.to_csv(\"cries_8_test.csv\", index=False)\n",
    "Cries.head()"
   ]
  }
 ],
 "metadata": {
  "kernelspec": {
   "display_name": "Python 3",
   "language": "python",
   "name": "python3"
  },
  "language_info": {
   "codemirror_mode": {
    "name": "ipython",
    "version": 3
   },
   "file_extension": ".py",
   "mimetype": "text/x-python",
   "name": "python",
   "nbconvert_exporter": "python",
   "pygments_lexer": "ipython3",
   "version": "3.10.12"
  }
 },
 "nbformat": 4,
 "nbformat_minor": 2
}
