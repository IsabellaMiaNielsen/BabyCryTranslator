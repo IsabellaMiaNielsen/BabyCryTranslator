{
  "cells": [
    {
      "cell_type": "code",
      "execution_count": null,
      "metadata": {
        "id": "-yKQ_m3zollj"
      },
      "outputs": [],
      "source": [
        "# Import libraries for sound and display\n",
        "import pandas as pd\n",
        "import numpy as np\n",
        "from os.path import join as pjoin\n",
        "import os\n",
        "import matplotlib.pyplot as plt\n",
        "import librosa\n",
        "import librosa.display\n",
        "import seaborn as sns\n",
        "\n",
        "# Import libraries for ML\n",
        "from sklearn.preprocessing import StandardScaler, OneHotEncoder, MinMaxScaler\n",
        "from sklearn.metrics import confusion_matrix, classification_report\n",
        "from sklearn.model_selection import train_test_split\n",
        "import keras\n",
        "from keras.preprocessing import sequence\n",
        "from keras.models import Sequential\n",
        "from keras.layers import Dense, Embedding\n",
        "from keras.layers import LSTM,BatchNormalization , GRU\n",
        "from keras.preprocessing.text import Tokenizer\n",
        "from keras.preprocessing.sequence import pad_sequences\n",
        "import tensorflow as tf\n",
        "from keras.utils import to_categorical, plot_model\n",
        "from keras.layers import Input, Flatten, Dropout, Activation\n",
        "from keras.layers import Conv1D, MaxPooling1D, AveragePooling1D, ReLU, LeakyReLU\n",
        "from keras.models import Model\n",
        "from keras.callbacks import ModelCheckpoint\n",
        "from keras.optimizers import SGD"
      ]
    },
    {
      "cell_type": "code",
      "source": [],
      "metadata": {
        "id": "sjTVmWjsp8Nl"
      },
      "execution_count": null,
      "outputs": []
    },
    {
      "cell_type": "markdown",
      "metadata": {
        "id": "9gC7_c1Polll"
      },
      "source": [
        "Load the data"
      ]
    },
    {
      "cell_type": "code",
      "execution_count": null,
      "metadata": {
        "id": "PJsfJsILolln"
      },
      "outputs": [],
      "source": [
        "Cries = pd.read_csv(\"cries_halfsecond.csv\")\n",
        "print(Cries.shape)\n",
        "Cries.head()\n",
        "\n"
      ]
    },
    {
      "cell_type": "code",
      "source": [
        "print(Cries.Labels.value_counts())\n",
        "#print(Cries_test.Labels.value_counts())\n",
        "Cries[\"Labels\"].unique()\n",
        "#Cries[\"Labels\"] = Cries[\"Labels\"].map({\"hungry\": 0, \"discomfort\": 1, \"burping\": 2, \"belly_pain\": 3, \"tired\": 4}).astype(int) #mapping numbers\n",
        "Cries.head()"
      ],
      "metadata": {
        "id": "71olkEGwSYMZ"
      },
      "execution_count": null,
      "outputs": []
    },
    {
      "cell_type": "markdown",
      "metadata": {
        "id": "5aMCCBgTolln"
      },
      "source": [
        "Data preparation"
      ]
    },
    {
      "cell_type": "code",
      "execution_count": null,
      "metadata": {
        "id": "4bt4N6M5ollo"
      },
      "outputs": [],
      "source": [
        "# Take all rows and cols without last col for X which include features\n",
        "X = Cries.iloc[:, :-1].values\n",
        "# Take last col for Y, which include the cry labels\n",
        "Y = Cries[\"Labels\"].values\n"
      ]
    },
    {
      "cell_type": "markdown",
      "source": [
        "Undersample training set"
      ],
      "metadata": {
        "id": "aYTaF6_x9Cni"
      }
    },
    {
      "cell_type": "code",
      "source": [
        "from imblearn.under_sampling import RandomUnderSampler\n",
        "rus = RandomUnderSampler(random_state=42, sampling_strategy = 'not minority')\n",
        "x_resampled, y_resampled = rus.fit_resample(X, Y)"
      ],
      "metadata": {
        "id": "8G2UvTNT8yYc"
      },
      "execution_count": null,
      "outputs": []
    },
    {
      "cell_type": "code",
      "source": [
        "print(x_resampled.shape, y_resampled.shape)\n",
        "print(len(y_resampled))"
      ],
      "metadata": {
        "id": "HHUb7JAByivJ"
      },
      "execution_count": null,
      "outputs": []
    },
    {
      "cell_type": "code",
      "source": [
        "x_train, x_test, y_train, y_test = train_test_split(X, Y, random_state=42, test_size=0.2, shuffle=True)\n",
        "print(x_train.shape, y_train.shape, x_test.shape, y_test.shape)"
      ],
      "metadata": {
        "id": "qQmRhZJF10s-"
      },
      "execution_count": null,
      "outputs": []
    },
    {
      "cell_type": "markdown",
      "source": [
        "Visualize final training set"
      ],
      "metadata": {
        "id": "j7mFnS249GrB"
      }
    },
    {
      "cell_type": "code",
      "source": [
        "from collections import Counter\n",
        "from sklearn.preprocessing import LabelEncoder\n",
        "\n",
        "yp = LabelEncoder().fit_transform(y_resampled)\n",
        "# summarize distribution\n",
        "counter = Counter(yp)\n",
        "for k,v in counter.items():\n",
        " per = v / len(yp) * 100\n",
        " print('Class=%d, n=%d (%.3f%%)' % (k, v, per))\n",
        "# plot the distribution\n",
        "plt.bar(counter.keys(), counter.values())\n",
        "plt.show()"
      ],
      "metadata": {
        "id": "wYE9mb0qbnNc"
      },
      "execution_count": null,
      "outputs": []
    },
    {
      "cell_type": "markdown",
      "source": [
        "First normalize data to make learning easier:"
      ],
      "metadata": {
        "id": "VMgtkwbgtJ56"
      }
    },
    {
      "cell_type": "code",
      "source": [
        "scaler = MinMaxScaler()\n",
        "scaler.fit(x_train)\n",
        "\n",
        "x_train = scaler.transform(x_train)\n",
        "x_test = scaler.transform(x_test)\n"
      ],
      "metadata": {
        "id": "5PurW2NUo0Lp"
      },
      "execution_count": null,
      "outputs": []
    },
    {
      "cell_type": "markdown",
      "source": [
        "Create the encoder"
      ],
      "metadata": {
        "id": "3Muf5QxUwBdo"
      }
    },
    {
      "cell_type": "code",
      "source": [
        "input_size = x_train.shape[1]\n",
        "visible = Input(shape=(input_size,))\n",
        "#first layer\n",
        "e = Dense(input_size/2)(visible)\n",
        "e = BatchNormalization()(e)\n",
        "e = ReLU()(e)\n",
        "#second layer\n",
        "e = Dense(input_size/4)(e)\n",
        "e = BatchNormalization()(e)\n",
        "e = ReLU()(e)\n",
        "#bottleneck\n",
        "n_bottleneck = 100\n",
        "bottleneck = Dense(n_bottleneck)(e)"
      ],
      "metadata": {
        "id": "n-ZsHgKKwBH0"
      },
      "execution_count": null,
      "outputs": []
    },
    {
      "cell_type": "markdown",
      "source": [
        "Create decoder (easier to make changes when seperated)"
      ],
      "metadata": {
        "id": "BZqxhMX45Cy2"
      }
    },
    {
      "cell_type": "code",
      "source": [
        "# define decoder, level 1\n",
        "d = Dense(input_size/4)(bottleneck)\n",
        "d = BatchNormalization()(d)\n",
        "d = ReLU()(d)\n",
        "# decoder level 2\n",
        "d = Dense(input_size/2)(d)\n",
        "d = BatchNormalization()(d)\n",
        "d = ReLU()(d)\n",
        "# output layer\n",
        "output = Dense(input_size, activation='linear')(d)\n",
        "# define autoencoder model\n",
        "model = Model(inputs=visible, outputs=output)"
      ],
      "metadata": {
        "id": "xbpMhp-a5Cgm"
      },
      "execution_count": null,
      "outputs": []
    },
    {
      "cell_type": "code",
      "source": [
        "model.compile(optimizer='adam', loss=\"mse\")"
      ],
      "metadata": {
        "id": "Lkv-RZRl5oNE"
      },
      "execution_count": null,
      "outputs": []
    },
    {
      "cell_type": "code",
      "source": [
        "plot_model(model, \"autoencoder_architecture.png\", show_shapes=True)"
      ],
      "metadata": {
        "id": "X1ULXKgE6IWa",
        "colab": {
          "base_uri": "https://localhost:8080/",
          "height": 177
        },
        "outputId": "e6f4ec04-4619-4045-ae9b-4e7dfe44b53b"
      },
      "execution_count": null,
      "outputs": []
    },
    {
      "cell_type": "code",
      "source": [
        "history = model.fit(x_train, x_train, epochs=10, batch_size=16, verbose=2, validation_data=(x_test,x_test))"
      ],
      "metadata": {
        "id": "Eps0sO1g7KcA"
      },
      "execution_count": null,
      "outputs": []
    },
    {
      "cell_type": "code",
      "source": [
        "plt.plot(history.history['loss'], label='train')\n",
        "plt.plot(history.history['val_loss'], label='test')\n",
        "plt.legend()\n",
        "plt.show()"
      ],
      "metadata": {
        "id": "U9c2PlR2Qe9T"
      },
      "execution_count": null,
      "outputs": []
    },
    {
      "cell_type": "code",
      "source": [
        "encoder = Model(inputs=visible, outputs=bottleneck)\n",
        "plot_model(encoder, 'encoder_no_decode.png', show_shapes=True)\n",
        "# save the encoder to file\n",
        "encoder.save('encoder.keras')"
      ],
      "metadata": {
        "id": "MW7c0FQaQ060"
      },
      "execution_count": null,
      "outputs": []
    },
    {
      "cell_type": "code",
      "source": [
        "from sklearn.ensemble import RandomForestClassifier\n",
        "from sklearn.model_selection import cross_val_score\n",
        "from sklearn.model_selection import RepeatedStratifiedKFold\n",
        "from sklearn.metrics import accuracy_score, confusion_matrix\n"
      ],
      "metadata": {
        "id": "rBvcYfBMcoqL"
      },
      "execution_count": null,
      "outputs": []
    },
    {
      "cell_type": "markdown",
      "source": [
        "Decision tree classifier"
      ],
      "metadata": {
        "id": "--ofhWv1EHRL"
      }
    },
    {
      "cell_type": "code",
      "source": [
        "from sklearn.neighbors import KNeighborsClassifier\n",
        "from sklearn.model_selection import GridSearchCV\n",
        "\n",
        "grid_params = {\n",
        "    'n_neighbors': [3, 5, 7, 9, 11, 15],\n",
        "    'weights': ['uniform', 'distance'],\n",
        "    'metric': ['euclidean', 'manhattan']\n",
        "}\n",
        "x_train, x_test, y_train, y_test = train_test_split(x_resampled, y_resampled, random_state=42, test_size=0.2, shuffle=True)\n",
        "scaler = MinMaxScaler()\n",
        "scaler.fit(x_train)\n",
        "\n",
        "x_train = scaler.transform(x_train)\n",
        "x_test = scaler.transform(x_test)\n",
        "\n",
        "#x_encoded = encoder.predict(x_train)\n",
        "model = GridSearchCV(KNeighborsClassifier(), grid_params, cv=5, n_jobs=-1)\n",
        "model.fit(x_train, y_train)"
      ],
      "metadata": {
        "id": "eF-zwF7jTcgJ"
      },
      "execution_count": null,
      "outputs": []
    },
    {
      "cell_type": "code",
      "source": [
        "from sklearn.metrics import ConfusionMatrixDisplay\n",
        "\n",
        "#x_test_encoded = encoder.predict(x_test)\n",
        "print(f'Model Score: {model.score(x_test, y_test)}')\n",
        "\n",
        "y_predict = model.predict(x_test)\n",
        "\n",
        "cm = confusion_matrix(y_test, y_predict)\n",
        "plt.figure(figsize=(12, 10))\n",
        "\n",
        "disp = ConfusionMatrixDisplay(confusion_matrix=cm, display_labels=[\"Belly-pain\", \"Burping\", \"Discomfort\", \"Hungry\", \"Tired\"])\n",
        "disp.plot()\n",
        "\n",
        "encoder2 = OneHotEncoder()\n",
        "y_en = encoder2.fit_transform(np.array(y_test).reshape(-1, 1)).toarray()\n",
        "\n",
        "cm = pd.DataFrame(cm, index=[i for i in encoder2.categories_], columns=[i for i in encoder2.categories_])\n",
        "plt.figure(figsize=(8, 6))\n",
        "sns.heatmap(cm, linecolor=\"white\", cmap=\"Blues\", linewidths=1, annot=True, fmt=\".2f\")\n",
        "\n",
        "plt.title(\"Confusion Matrix\", size=20)\n",
        "plt.xlabel(\"Predicted Labels\", size=14)\n",
        "plt.ylabel(\"Actual Labels\", size=14)\n",
        "plt.show()\n",
        "print(classification_report(y_test, y_predict))\n",
        "print(f'Confusion Matrix: \\n{confusion_matrix(y_test, y_predict)}')"
      ],
      "metadata": {
        "id": "71X8tmphILpN"
      },
      "execution_count": null,
      "outputs": []
    },
    {
      "cell_type": "code",
      "source": [
        "# evaluate a model\n",
        "def evaluate_model(X, y, model):\n",
        "  # define evaluation procedure\n",
        "  cv = RepeatedStratifiedKFold(n_splits=5, n_repeats=3, random_state=1)\n",
        "  # evaluate model\n",
        "  scores = cross_val_score(model, X, y, scoring='accuracy', cv=cv, n_jobs=-1)\n",
        "  return scores\n",
        "\n",
        "\n",
        "x_train_encoded = encoder.predict(x_resampled)\n",
        "x_test_encoded = encoder.predict(x_test)\n",
        "#x_train_encoded = x_resampled\n",
        "#x_test_encoded = x_test\n",
        "\n",
        "#weights = {'belly_pain':2.0, 'burping':2.0, 'discomfort':1.0, 'hungry':1.0, 'tired':1.0}\n",
        "rf = RandomForestClassifier(n_estimators=1000)\n",
        "rf.fit(x_train_encoded, y_resampled)\n",
        "y_pred = rf.predict(x_test_encoded)\n",
        "\n",
        "\n",
        "#accuracy = accuracy_score(y_test, y_pred)\n",
        "#accuracy = evaluate_model(x_train, y_train, rf)\n",
        "\n",
        "#print(np.mean(accuracy), np.std(accuracy))"
      ],
      "metadata": {
        "id": "wl4DZ0M5EAid"
      },
      "execution_count": null,
      "outputs": []
    },
    {
      "cell_type": "code",
      "source": [
        "from sklearn.metrics import ConfusionMatrixDisplay\n",
        "\n",
        "cm = confusion_matrix(y_test, y_pred, normalize=\"all\")\n",
        "disp = ConfusionMatrixDisplay(confusion_matrix=cm, display_labels=[\"Belly-pain\", \"Burping\", \"Discomfort\", \"Hungry\", \"Tired\"])\n",
        "disp.plot()\n",
        "plt.show()\n"
      ],
      "metadata": {
        "id": "YObrP8nWoojy"
      },
      "execution_count": null,
      "outputs": []
    }
  ],
  "metadata": {
    "kernelspec": {
      "display_name": "Python 3",
      "language": "python",
      "name": "python3"
    },
    "language_info": {
      "codemirror_mode": {
        "name": "ipython",
        "version": 3
      },
      "file_extension": ".py",
      "mimetype": "text/x-python",
      "name": "python",
      "nbconvert_exporter": "python",
      "pygments_lexer": "ipython3",
      "version": "3.10.12"
    },
    "colab": {
      "provenance": []
    }
  },
  "nbformat": 4,
  "nbformat_minor": 0
}
